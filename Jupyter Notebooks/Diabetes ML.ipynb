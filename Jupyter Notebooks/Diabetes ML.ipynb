{
 "cells": [
  {
   "cell_type": "code",
   "execution_count": 1,
   "id": "e925624b-5ba4-4832-83d6-affebe9fb9d0",
   "metadata": {},
   "outputs": [],
   "source": [
    "import pandas as pd\n",
    "import numpy as np\n",
    "import seaborn as sns\n",
    "from matplotlib import pyplot as plt\n",
    "from sklearn.preprocessing import StandardScaler\n",
    "from sklearn.model_selection import train_test_split\n",
    "from sklearn.metrics import accuracy_score\n",
    "from sklearn import svm\n",
    "import warnings\n",
    "warnings.filterwarnings('ignore')\n",
    "%matplotlib inline"
   ]
  },
  {
   "cell_type": "code",
   "execution_count": 3,
   "id": "8e02c84a-ecc5-4978-a533-96470704c784",
   "metadata": {},
   "outputs": [
    {
     "data": {
      "text/html": [
       "<div>\n",
       "<style scoped>\n",
       "    .dataframe tbody tr th:only-of-type {\n",
       "        vertical-align: middle;\n",
       "    }\n",
       "\n",
       "    .dataframe tbody tr th {\n",
       "        vertical-align: top;\n",
       "    }\n",
       "\n",
       "    .dataframe thead th {\n",
       "        text-align: right;\n",
       "    }\n",
       "</style>\n",
       "<table border=\"1\" class=\"dataframe\">\n",
       "  <thead>\n",
       "    <tr style=\"text-align: right;\">\n",
       "      <th></th>\n",
       "      <th>Pregnancies</th>\n",
       "      <th>Glucose</th>\n",
       "      <th>BloodPressure</th>\n",
       "      <th>SkinThickness</th>\n",
       "      <th>Insulin</th>\n",
       "      <th>BMI</th>\n",
       "      <th>DiabetesPedigreeFunction</th>\n",
       "      <th>Age</th>\n",
       "      <th>Outcome</th>\n",
       "    </tr>\n",
       "  </thead>\n",
       "  <tbody>\n",
       "    <tr>\n",
       "      <th>0</th>\n",
       "      <td>35.0</td>\n",
       "      <td>138.0</td>\n",
       "      <td>62</td>\n",
       "      <td>35.0</td>\n",
       "      <td>0</td>\n",
       "      <td>33.6</td>\n",
       "      <td>0.127</td>\n",
       "      <td>47</td>\n",
       "      <td>1</td>\n",
       "    </tr>\n",
       "    <tr>\n",
       "      <th>1</th>\n",
       "      <td>31.0</td>\n",
       "      <td>84.0</td>\n",
       "      <td>82</td>\n",
       "      <td>31.0</td>\n",
       "      <td>125</td>\n",
       "      <td>38.2</td>\n",
       "      <td>0.233</td>\n",
       "      <td>23</td>\n",
       "      <td>0</td>\n",
       "    </tr>\n",
       "    <tr>\n",
       "      <th>2</th>\n",
       "      <td>0.0</td>\n",
       "      <td>145.0</td>\n",
       "      <td>72</td>\n",
       "      <td>0.0</td>\n",
       "      <td>0</td>\n",
       "      <td>44.2</td>\n",
       "      <td>0.630</td>\n",
       "      <td>31</td>\n",
       "      <td>1</td>\n",
       "    </tr>\n",
       "    <tr>\n",
       "      <th>3</th>\n",
       "      <td>42.0</td>\n",
       "      <td>135.0</td>\n",
       "      <td>68</td>\n",
       "      <td>42.0</td>\n",
       "      <td>250</td>\n",
       "      <td>42.3</td>\n",
       "      <td>0.365</td>\n",
       "      <td>24</td>\n",
       "      <td>1</td>\n",
       "    </tr>\n",
       "    <tr>\n",
       "      <th>4</th>\n",
       "      <td>41.0</td>\n",
       "      <td>139.0</td>\n",
       "      <td>62</td>\n",
       "      <td>41.0</td>\n",
       "      <td>63</td>\n",
       "      <td>40.7</td>\n",
       "      <td>0.536</td>\n",
       "      <td>21</td>\n",
       "      <td>0</td>\n",
       "    </tr>\n",
       "  </tbody>\n",
       "</table>\n",
       "</div>"
      ],
      "text/plain": [
       "   Pregnancies  Glucose  BloodPressure  SkinThickness  Insulin   BMI  \\\n",
       "0         35.0    138.0             62           35.0        0  33.6   \n",
       "1         31.0     84.0             82           31.0      125  38.2   \n",
       "2          0.0    145.0             72            0.0        0  44.2   \n",
       "3         42.0    135.0             68           42.0      250  42.3   \n",
       "4         41.0    139.0             62           41.0       63  40.7   \n",
       "\n",
       "   DiabetesPedigreeFunction  Age  Outcome  \n",
       "0                     0.127   47        1  \n",
       "1                     0.233   23        0  \n",
       "2                     0.630   31        1  \n",
       "3                     0.365   24        1  \n",
       "4                     0.536   21        0  "
      ]
     },
     "execution_count": 3,
     "metadata": {},
     "output_type": "execute_result"
    }
   ],
   "source": [
    "df=pd.read_csv('diabetes_cleaned.csv')\n",
    "df.head()"
   ]
  },
  {
   "cell_type": "code",
   "execution_count": 4,
   "id": "e065f704-977f-4476-9f10-67ecc2c97d5e",
   "metadata": {},
   "outputs": [],
   "source": [
    "from imblearn.combine import SMOTEENN\n",
    "sm = SMOTEENN(random_state = 2)"
   ]
  },
  {
   "cell_type": "code",
   "execution_count": 5,
   "id": "28e948dd-c0c8-4d88-835a-bc45b6b01f5c",
   "metadata": {},
   "outputs": [
    {
     "data": {
      "text/html": [
       "<div>\n",
       "<style scoped>\n",
       "    .dataframe tbody tr th:only-of-type {\n",
       "        vertical-align: middle;\n",
       "    }\n",
       "\n",
       "    .dataframe tbody tr th {\n",
       "        vertical-align: top;\n",
       "    }\n",
       "\n",
       "    .dataframe thead th {\n",
       "        text-align: right;\n",
       "    }\n",
       "</style>\n",
       "<table border=\"1\" class=\"dataframe\">\n",
       "  <thead>\n",
       "    <tr style=\"text-align: right;\">\n",
       "      <th></th>\n",
       "      <th>Pregnancies</th>\n",
       "      <th>Glucose</th>\n",
       "      <th>BloodPressure</th>\n",
       "      <th>SkinThickness</th>\n",
       "      <th>Insulin</th>\n",
       "      <th>BMI</th>\n",
       "      <th>DiabetesPedigreeFunction</th>\n",
       "      <th>Age</th>\n",
       "    </tr>\n",
       "  </thead>\n",
       "  <tbody>\n",
       "    <tr>\n",
       "      <th>0</th>\n",
       "      <td>35.0</td>\n",
       "      <td>138.0</td>\n",
       "      <td>62</td>\n",
       "      <td>35.0</td>\n",
       "      <td>0</td>\n",
       "      <td>33.6</td>\n",
       "      <td>0.127</td>\n",
       "      <td>47</td>\n",
       "    </tr>\n",
       "    <tr>\n",
       "      <th>1</th>\n",
       "      <td>31.0</td>\n",
       "      <td>84.0</td>\n",
       "      <td>82</td>\n",
       "      <td>31.0</td>\n",
       "      <td>125</td>\n",
       "      <td>38.2</td>\n",
       "      <td>0.233</td>\n",
       "      <td>23</td>\n",
       "    </tr>\n",
       "    <tr>\n",
       "      <th>2</th>\n",
       "      <td>0.0</td>\n",
       "      <td>145.0</td>\n",
       "      <td>72</td>\n",
       "      <td>0.0</td>\n",
       "      <td>0</td>\n",
       "      <td>44.2</td>\n",
       "      <td>0.630</td>\n",
       "      <td>31</td>\n",
       "    </tr>\n",
       "    <tr>\n",
       "      <th>3</th>\n",
       "      <td>42.0</td>\n",
       "      <td>135.0</td>\n",
       "      <td>68</td>\n",
       "      <td>42.0</td>\n",
       "      <td>250</td>\n",
       "      <td>42.3</td>\n",
       "      <td>0.365</td>\n",
       "      <td>24</td>\n",
       "    </tr>\n",
       "    <tr>\n",
       "      <th>4</th>\n",
       "      <td>41.0</td>\n",
       "      <td>139.0</td>\n",
       "      <td>62</td>\n",
       "      <td>41.0</td>\n",
       "      <td>63</td>\n",
       "      <td>40.7</td>\n",
       "      <td>0.536</td>\n",
       "      <td>21</td>\n",
       "    </tr>\n",
       "  </tbody>\n",
       "</table>\n",
       "</div>"
      ],
      "text/plain": [
       "   Pregnancies  Glucose  BloodPressure  SkinThickness  Insulin   BMI  \\\n",
       "0         35.0    138.0             62           35.0        0  33.6   \n",
       "1         31.0     84.0             82           31.0      125  38.2   \n",
       "2          0.0    145.0             72            0.0        0  44.2   \n",
       "3         42.0    135.0             68           42.0      250  42.3   \n",
       "4         41.0    139.0             62           41.0       63  40.7   \n",
       "\n",
       "   DiabetesPedigreeFunction  Age  \n",
       "0                     0.127   47  \n",
       "1                     0.233   23  \n",
       "2                     0.630   31  \n",
       "3                     0.365   24  \n",
       "4                     0.536   21  "
      ]
     },
     "execution_count": 5,
     "metadata": {},
     "output_type": "execute_result"
    }
   ],
   "source": [
    "x = df.drop('Outcome', axis = 1)\n",
    "y = df.Outcome\n",
    "x.head()"
   ]
  },
  {
   "cell_type": "code",
   "execution_count": 6,
   "id": "58bb009b-6e57-467c-a64a-3892780a4fa0",
   "metadata": {},
   "outputs": [
    {
     "data": {
      "text/plain": [
       "((2220, 8), (2220,))"
      ]
     },
     "execution_count": 6,
     "metadata": {},
     "output_type": "execute_result"
    }
   ],
   "source": [
    "x_train_senn, y_train_senn = sm.fit_resample(x,y)\n",
    "x_train_senn.shape, y_train_senn.shape"
   ]
  },
  {
   "cell_type": "code",
   "execution_count": 8,
   "id": "ae4c27af-e623-4aa0-8750-631916972f88",
   "metadata": {},
   "outputs": [
    {
     "data": {
      "text/plain": [
       "((2220, 8), (2220,))"
      ]
     },
     "execution_count": 8,
     "metadata": {},
     "output_type": "execute_result"
    }
   ],
   "source": [
    "scaler = StandardScaler()\n",
    "scaler.fit(x_train_senn)\n",
    "std_data = scaler.transform(x_train_senn)\n",
    "x_train1 = std_data\n",
    "x_train1.shape, y_train_senn.shape"
   ]
  },
  {
   "cell_type": "code",
   "execution_count": 9,
   "id": "bc0fcee8-6b93-4beb-8418-137e0a7be9b4",
   "metadata": {},
   "outputs": [
    {
     "data": {
      "text/plain": [
       "((1554, 8), (666, 8), (1554,), (666,))"
      ]
     },
     "execution_count": 9,
     "metadata": {},
     "output_type": "execute_result"
    }
   ],
   "source": [
    "x_train, x_test,y_train,y_test = train_test_split(x_train1, y_train_senn, test_size = 0.3, stratify = y_train_senn, random_state = 2)\n",
    "x_train.shape, x_test.shape, y_train.shape, y_test.shape                                                  "
   ]
  },
  {
   "cell_type": "code",
   "execution_count": 10,
   "id": "6077b59e-3210-466f-a4dc-24f758466189",
   "metadata": {},
   "outputs": [
    {
     "data": {
      "text/plain": [
       "0.9234234234234234"
      ]
     },
     "execution_count": 10,
     "metadata": {},
     "output_type": "execute_result"
    }
   ],
   "source": [
    "from sklearn.neighbors import KNeighborsClassifier\n",
    "knn  = KNeighborsClassifier()\n",
    "knn.fit(x_train, y_train)\n",
    "kn_predict = knn.predict(x_test)\n",
    "acc2 = accuracy_score(y_test, kn_predict)\n",
    "acc2"
   ]
  },
  {
   "cell_type": "markdown",
   "id": "43cac9a6-7d5d-4ef3-a2ec-27759e56bb58",
   "metadata": {},
   "source": [
    "### Predictive Model."
   ]
  },
  {
   "cell_type": "code",
   "execution_count": 12,
   "id": "f12af502-6a8f-459e-8333-1117e59e0b80",
   "metadata": {},
   "outputs": [
    {
     "name": "stdout",
     "output_type": "stream",
     "text": [
      "[[-1.18348086 -0.649319   -0.81353317  0.87697481  0.77352681 -0.38240492\n",
      "   4.6437199   0.0209916 ]]\n",
      "[0]\n",
      "This person doesnt have Diabetes\n"
     ]
    }
   ],
   "source": [
    "inputed_data = (2, 106, 64, 35, 119, 30.5, 1.400,34)          #Data From row 1.\n",
    "data_as_np = np.asarray(inputed_data)\n",
    "inputed_reshaped = data_as_np.reshape(1,-1)\n",
    "\n",
    "std_data = scaler.transform(inputed_reshaped)\n",
    "print(std_data)\n",
    "prediction = knn.predict(std_data)\n",
    "print(prediction)\n",
    "\n",
    "\n",
    "if (prediction[0] == 0):\n",
    "    print('This person doesnt have Diabetes')\n",
    "else:\n",
    "    print('This person is Diabetic')"
   ]
  },
  {
   "cell_type": "markdown",
   "id": "bc4f6c68-3db9-43db-a7bd-c66c33727e83",
   "metadata": {},
   "source": [
    "2, 106, 64, 35, 119, 30.5, 1.400,34 - no\n",
    "\n",
    "3, 187, 70, 22, 200, 36.4, 0.408,36"
   ]
  },
  {
   "cell_type": "code",
   "execution_count": 13,
   "id": "9a4cf2d7-1a50-4cb5-a83e-5ed1a03c6b3a",
   "metadata": {},
   "outputs": [],
   "source": [
    "import pickle"
   ]
  },
  {
   "cell_type": "code",
   "execution_count": 14,
   "id": "ed8f34b0-d9c8-489f-a3d0-5de5ef217312",
   "metadata": {},
   "outputs": [],
   "source": [
    "filename = 'diabetes_model.sav'\n",
    "pickle.dump(knn, open(filename, 'wb'))"
   ]
  },
  {
   "cell_type": "code",
   "execution_count": 15,
   "id": "306fba46-8e26-49f5-83c7-563a3876f168",
   "metadata": {},
   "outputs": [],
   "source": [
    "lodedmodel = pickle.load(open('diabetes_model.sav', 'rb'))"
   ]
  },
  {
   "cell_type": "code",
   "execution_count": 16,
   "id": "02c79e2d-9f65-4c43-a116-947c03978b9e",
   "metadata": {},
   "outputs": [
    {
     "name": "stdout",
     "output_type": "stream",
     "text": [
      "Pregnancies\n",
      "Glucose\n",
      "BloodPressure\n",
      "SkinThickness\n",
      "Insulin\n",
      "BMI\n",
      "DiabetesPedigreeFunction\n",
      "Age\n"
     ]
    }
   ],
   "source": [
    "for column in x.columns:\n",
    "    print(column)"
   ]
  },
  {
   "cell_type": "code",
   "execution_count": null,
   "id": "77e1384e-5cef-491d-ad17-6e58a0bff47e",
   "metadata": {},
   "outputs": [],
   "source": []
  }
 ],
 "metadata": {
  "kernelspec": {
   "display_name": "Python 3 (ipykernel)",
   "language": "python",
   "name": "python3"
  },
  "language_info": {
   "codemirror_mode": {
    "name": "ipython",
    "version": 3
   },
   "file_extension": ".py",
   "mimetype": "text/x-python",
   "name": "python",
   "nbconvert_exporter": "python",
   "pygments_lexer": "ipython3",
   "version": "3.9.12"
  }
 },
 "nbformat": 4,
 "nbformat_minor": 5
}
