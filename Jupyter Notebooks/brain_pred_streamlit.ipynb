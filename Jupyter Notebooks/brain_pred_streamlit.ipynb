{
 "cells": [
  {
   "cell_type": "code",
   "execution_count": 52,
   "id": "b189673d-2b64-4248-a620-cbbd02ff7f11",
   "metadata": {},
   "outputs": [],
   "source": [
    "import pandas as pd\n",
    "import numpy as np\n",
    "from matplotlib import pyplot as plt\n",
    "import seaborn as sns\n",
    "from sklearn.preprocessing import StandardScaler\n",
    "from sklearn.preprocessing import LabelEncoder\n",
    "from sklearn.model_selection import train_test_split\n",
    "from sklearn.metrics import accuracy_score\n",
    "from sklearn import svm\n",
    "from sklearn.metrics import confusion_matrix #for confusion matrix\n",
    "import warnings\n",
    "warnings.filterwarnings('ignore')\n",
    "%matplotlib inline"
   ]
  },
  {
   "cell_type": "code",
   "execution_count": 53,
   "id": "9eafbd39-209c-4231-94ce-6f74deaee131",
   "metadata": {},
   "outputs": [],
   "source": [
    "df = pd.read_csv('brain_stroke2.csv')"
   ]
  },
  {
   "cell_type": "code",
   "execution_count": 46,
   "id": "84c0aa9f-fd64-4043-b3f2-f393fcc4482f",
   "metadata": {},
   "outputs": [],
   "source": [
    "df.loc[df['age']<17, 'work_type']='children'"
   ]
  },
  {
   "cell_type": "code",
   "execution_count": 47,
   "id": "3bef1cc0-bcd5-434f-9eb2-51dbd1408455",
   "metadata": {},
   "outputs": [
    {
     "data": {
      "text/plain": [
       "children    770\n",
       "Name: work_type, dtype: int64"
      ]
     },
     "execution_count": 47,
     "metadata": {},
     "output_type": "execute_result"
    }
   ],
   "source": [
    "df.loc[df['age']<17, 'work_type'].value_counts()"
   ]
  },
  {
   "cell_type": "markdown",
   "id": "bad060c7-f1dd-4816-b464-a2fcbff2da39",
   "metadata": {},
   "source": [
    "enc = LabelEncoder()\n",
    "df.loc[:,['gender','ever_married','work_type','Residence_type','smoking_status']] = \\\n",
    "df.loc[:,['gender','ever_married','work_type','Residence_type','smoking_status']].apply(enc.fit_transform)\n",
    "df.head()"
   ]
  },
  {
   "cell_type": "markdown",
   "id": "4c174daa-8168-4b40-8854-9e507d4db5d2",
   "metadata": {},
   "source": [
    "df[\"gender\"] = df[\"gender\"].astype(float)\n",
    "df[\"hypertension\"] = df[\"hypertension\"].astype(float)\n",
    "df[\"heart_disease\"] = df[\"heart_disease\"].astype(float)\n",
    "df[\"ever_married\"] = df[\"ever_married\"].astype(float)\n",
    "df[\"work_type\"] = df[\"work_type\"].astype(float)\n",
    "df[\"Residence_type\"] = df[\"Residence_type\"].astype(float)\n",
    "df[\"smoking_status\"] = df[\"smoking_status\"].astype(float)"
   ]
  },
  {
   "cell_type": "code",
   "execution_count": 48,
   "id": "54ebf761-b60c-4fd3-b3e2-9263500f311b",
   "metadata": {},
   "outputs": [
    {
     "data": {
      "text/html": [
       "<div>\n",
       "<style scoped>\n",
       "    .dataframe tbody tr th:only-of-type {\n",
       "        vertical-align: middle;\n",
       "    }\n",
       "\n",
       "    .dataframe tbody tr th {\n",
       "        vertical-align: top;\n",
       "    }\n",
       "\n",
       "    .dataframe thead th {\n",
       "        text-align: right;\n",
       "    }\n",
       "</style>\n",
       "<table border=\"1\" class=\"dataframe\">\n",
       "  <thead>\n",
       "    <tr style=\"text-align: right;\">\n",
       "      <th></th>\n",
       "      <th>gender</th>\n",
       "      <th>age</th>\n",
       "      <th>hypertension</th>\n",
       "      <th>heart_disease</th>\n",
       "      <th>ever_married</th>\n",
       "      <th>work_type</th>\n",
       "      <th>Residence_type</th>\n",
       "      <th>avg_glucose_level</th>\n",
       "      <th>bmi</th>\n",
       "      <th>smoking_status</th>\n",
       "      <th>stroke</th>\n",
       "    </tr>\n",
       "  </thead>\n",
       "  <tbody>\n",
       "    <tr>\n",
       "      <th>0</th>\n",
       "      <td>1.0</td>\n",
       "      <td>67.0</td>\n",
       "      <td>0.0</td>\n",
       "      <td>1.0</td>\n",
       "      <td>1.0</td>\n",
       "      <td>1.0</td>\n",
       "      <td>1.0</td>\n",
       "      <td>228.69</td>\n",
       "      <td>36.6</td>\n",
       "      <td>1.0</td>\n",
       "      <td>had stroke</td>\n",
       "    </tr>\n",
       "    <tr>\n",
       "      <th>1</th>\n",
       "      <td>1.0</td>\n",
       "      <td>80.0</td>\n",
       "      <td>0.0</td>\n",
       "      <td>1.0</td>\n",
       "      <td>1.0</td>\n",
       "      <td>1.0</td>\n",
       "      <td>0.0</td>\n",
       "      <td>105.92</td>\n",
       "      <td>32.5</td>\n",
       "      <td>2.0</td>\n",
       "      <td>had stroke</td>\n",
       "    </tr>\n",
       "    <tr>\n",
       "      <th>2</th>\n",
       "      <td>0.0</td>\n",
       "      <td>49.0</td>\n",
       "      <td>0.0</td>\n",
       "      <td>0.0</td>\n",
       "      <td>1.0</td>\n",
       "      <td>1.0</td>\n",
       "      <td>1.0</td>\n",
       "      <td>171.23</td>\n",
       "      <td>34.4</td>\n",
       "      <td>3.0</td>\n",
       "      <td>had stroke</td>\n",
       "    </tr>\n",
       "    <tr>\n",
       "      <th>3</th>\n",
       "      <td>0.0</td>\n",
       "      <td>79.0</td>\n",
       "      <td>1.0</td>\n",
       "      <td>0.0</td>\n",
       "      <td>1.0</td>\n",
       "      <td>2.0</td>\n",
       "      <td>0.0</td>\n",
       "      <td>174.12</td>\n",
       "      <td>24.0</td>\n",
       "      <td>2.0</td>\n",
       "      <td>had stroke</td>\n",
       "    </tr>\n",
       "    <tr>\n",
       "      <th>4</th>\n",
       "      <td>1.0</td>\n",
       "      <td>81.0</td>\n",
       "      <td>0.0</td>\n",
       "      <td>0.0</td>\n",
       "      <td>1.0</td>\n",
       "      <td>1.0</td>\n",
       "      <td>1.0</td>\n",
       "      <td>186.21</td>\n",
       "      <td>29.0</td>\n",
       "      <td>1.0</td>\n",
       "      <td>had stroke</td>\n",
       "    </tr>\n",
       "  </tbody>\n",
       "</table>\n",
       "</div>"
      ],
      "text/plain": [
       "   gender   age  hypertension  heart_disease  ever_married work_type  \\\n",
       "0     1.0  67.0           0.0            1.0           1.0       1.0   \n",
       "1     1.0  80.0           0.0            1.0           1.0       1.0   \n",
       "2     0.0  49.0           0.0            0.0           1.0       1.0   \n",
       "3     0.0  79.0           1.0            0.0           1.0       2.0   \n",
       "4     1.0  81.0           0.0            0.0           1.0       1.0   \n",
       "\n",
       "   Residence_type  avg_glucose_level   bmi  smoking_status      stroke  \n",
       "0             1.0             228.69  36.6             1.0  had stroke  \n",
       "1             0.0             105.92  32.5             2.0  had stroke  \n",
       "2             1.0             171.23  34.4             3.0  had stroke  \n",
       "3             0.0             174.12  24.0             2.0  had stroke  \n",
       "4             1.0             186.21  29.0             1.0  had stroke  "
      ]
     },
     "execution_count": 48,
     "metadata": {},
     "output_type": "execute_result"
    }
   ],
   "source": [
    "df.head()"
   ]
  },
  {
   "cell_type": "code",
   "execution_count": 54,
   "id": "33c4f11e-48ab-4a52-a6f4-049c94216f65",
   "metadata": {},
   "outputs": [],
   "source": [
    "from imblearn.combine import SMOTEENN\n",
    "sen = SMOTEENN(random_state = 2)"
   ]
  },
  {
   "cell_type": "code",
   "execution_count": 55,
   "id": "2ec7cbc3-be60-49ce-a013-33a18b191f33",
   "metadata": {},
   "outputs": [
    {
     "data": {
      "text/html": [
       "<div>\n",
       "<style scoped>\n",
       "    .dataframe tbody tr th:only-of-type {\n",
       "        vertical-align: middle;\n",
       "    }\n",
       "\n",
       "    .dataframe tbody tr th {\n",
       "        vertical-align: top;\n",
       "    }\n",
       "\n",
       "    .dataframe thead th {\n",
       "        text-align: right;\n",
       "    }\n",
       "</style>\n",
       "<table border=\"1\" class=\"dataframe\">\n",
       "  <thead>\n",
       "    <tr style=\"text-align: right;\">\n",
       "      <th></th>\n",
       "      <th>gender</th>\n",
       "      <th>age</th>\n",
       "      <th>hypertension</th>\n",
       "      <th>heart_disease</th>\n",
       "      <th>ever_married</th>\n",
       "      <th>work_type</th>\n",
       "      <th>Residence_type</th>\n",
       "      <th>avg_glucose_level</th>\n",
       "      <th>bmi</th>\n",
       "      <th>smoking_status</th>\n",
       "    </tr>\n",
       "  </thead>\n",
       "  <tbody>\n",
       "    <tr>\n",
       "      <th>0</th>\n",
       "      <td>1.0</td>\n",
       "      <td>67.0</td>\n",
       "      <td>0.0</td>\n",
       "      <td>1.0</td>\n",
       "      <td>1.0</td>\n",
       "      <td>1.0</td>\n",
       "      <td>1.0</td>\n",
       "      <td>228.69</td>\n",
       "      <td>36.6</td>\n",
       "      <td>1.0</td>\n",
       "    </tr>\n",
       "    <tr>\n",
       "      <th>1</th>\n",
       "      <td>1.0</td>\n",
       "      <td>80.0</td>\n",
       "      <td>0.0</td>\n",
       "      <td>1.0</td>\n",
       "      <td>1.0</td>\n",
       "      <td>1.0</td>\n",
       "      <td>0.0</td>\n",
       "      <td>105.92</td>\n",
       "      <td>32.5</td>\n",
       "      <td>2.0</td>\n",
       "    </tr>\n",
       "    <tr>\n",
       "      <th>2</th>\n",
       "      <td>0.0</td>\n",
       "      <td>49.0</td>\n",
       "      <td>0.0</td>\n",
       "      <td>0.0</td>\n",
       "      <td>1.0</td>\n",
       "      <td>1.0</td>\n",
       "      <td>1.0</td>\n",
       "      <td>171.23</td>\n",
       "      <td>34.4</td>\n",
       "      <td>3.0</td>\n",
       "    </tr>\n",
       "    <tr>\n",
       "      <th>3</th>\n",
       "      <td>0.0</td>\n",
       "      <td>79.0</td>\n",
       "      <td>1.0</td>\n",
       "      <td>0.0</td>\n",
       "      <td>1.0</td>\n",
       "      <td>2.0</td>\n",
       "      <td>0.0</td>\n",
       "      <td>174.12</td>\n",
       "      <td>24.0</td>\n",
       "      <td>2.0</td>\n",
       "    </tr>\n",
       "    <tr>\n",
       "      <th>4</th>\n",
       "      <td>1.0</td>\n",
       "      <td>81.0</td>\n",
       "      <td>0.0</td>\n",
       "      <td>0.0</td>\n",
       "      <td>1.0</td>\n",
       "      <td>1.0</td>\n",
       "      <td>1.0</td>\n",
       "      <td>186.21</td>\n",
       "      <td>29.0</td>\n",
       "      <td>1.0</td>\n",
       "    </tr>\n",
       "  </tbody>\n",
       "</table>\n",
       "</div>"
      ],
      "text/plain": [
       "   gender   age  hypertension  heart_disease  ever_married  work_type  \\\n",
       "0     1.0  67.0           0.0            1.0           1.0        1.0   \n",
       "1     1.0  80.0           0.0            1.0           1.0        1.0   \n",
       "2     0.0  49.0           0.0            0.0           1.0        1.0   \n",
       "3     0.0  79.0           1.0            0.0           1.0        2.0   \n",
       "4     1.0  81.0           0.0            0.0           1.0        1.0   \n",
       "\n",
       "   Residence_type  avg_glucose_level   bmi  smoking_status  \n",
       "0             1.0             228.69  36.6             1.0  \n",
       "1             0.0             105.92  32.5             2.0  \n",
       "2             1.0             171.23  34.4             3.0  \n",
       "3             0.0             174.12  24.0             2.0  \n",
       "4             1.0             186.21  29.0             1.0  "
      ]
     },
     "execution_count": 55,
     "metadata": {},
     "output_type": "execute_result"
    }
   ],
   "source": [
    "x= df.drop('stroke', axis = 1)\n",
    "y = df.stroke\n",
    "x.head()"
   ]
  },
  {
   "cell_type": "code",
   "execution_count": 56,
   "id": "81c249e6-a035-4cfe-965d-8f7b96fa78fb",
   "metadata": {},
   "outputs": [
    {
     "data": {
      "text/plain": [
       "((8021, 10), (8021,))"
      ]
     },
     "execution_count": 56,
     "metadata": {},
     "output_type": "execute_result"
    }
   ],
   "source": [
    "x_train_sen, y_train_sen = sen.fit_resample(x,y)\n",
    "x_train_sen.shape, y_train_sen.shape"
   ]
  },
  {
   "cell_type": "code",
   "execution_count": 57,
   "id": "3386e5b0-9a62-4d12-aeee-5122e5f7d78d",
   "metadata": {},
   "outputs": [
    {
     "data": {
      "text/plain": [
       "((5614, 10), (2407, 10), (5614,), (2407,))"
      ]
     },
     "execution_count": 57,
     "metadata": {},
     "output_type": "execute_result"
    }
   ],
   "source": [
    "x_train, x_test, y_train, y_test = train_test_split(x_train_sen, y_train_sen, test_size = 0.3, stratify = y_train_sen, random_state = 2)\n",
    "x_train.shape, x_test.shape, y_train.shape, y_test.shape"
   ]
  },
  {
   "cell_type": "code",
   "execution_count": 58,
   "id": "4a7ecc16-b58c-4a4e-b6f3-a604c1387f9b",
   "metadata": {},
   "outputs": [
    {
     "data": {
      "text/plain": [
       "0.8529289572081429"
      ]
     },
     "execution_count": 58,
     "metadata": {},
     "output_type": "execute_result"
    }
   ],
   "source": [
    "classifier = svm.SVC(kernel ='linear')\n",
    "classifier.fit(x_train, y_train)\n",
    "predict1 = classifier.predict(x_test)\n",
    "acc = accuracy_score(y_test, predict1)\n",
    "acc"
   ]
  },
  {
   "cell_type": "code",
   "execution_count": 59,
   "id": "7bd56061-1816-4176-8824-e89516db6cfa",
   "metadata": {},
   "outputs": [
    {
     "name": "stdout",
     "output_type": "stream",
     "text": [
      "Nope!!! This person has not had stroke\n"
     ]
    }
   ],
   "source": [
    "inputed_data = (1, 59.0, 1, 0, 1, 1, 0, 92.04, 24.2, 2)\n",
    "inputed_as_np = np.asarray(inputed_data)\n",
    "inputed_reshaped = inputed_as_np.reshape(1,-1)\n",
    "\n",
    "prediction = classifier.predict(inputed_reshaped)\n",
    "\n",
    "if(prediction[0]==1):\n",
    "    print('Oh yeah, Definitely had stroke')\n",
    "else:\n",
    "    print('Nope!!! This person has not had stroke')"
   ]
  },
  {
   "cell_type": "code",
   "execution_count": 69,
   "id": "b8c1ca5c-5409-4eec-aef0-7a9406c91bb2",
   "metadata": {},
   "outputs": [
    {
     "name": "stdout",
     "output_type": "stream",
     "text": [
      "['had stroke']\n"
     ]
    }
   ],
   "source": [
    "inputed_data = (1, 59.0, 1, 0, 1, 1, 0, 92.04, 24.2, 2)\n",
    "inputed_as_np = np.asarray(inputed_data)\n",
    "inputed_reshaped = inputed_as_np.reshape(1,-1)\n",
    "\n",
    "prediction = classifier.predict(inputed_reshaped)\n",
    "\n",
    "print(prediction)"
   ]
  },
  {
   "cell_type": "code",
   "execution_count": 31,
   "id": "0070dade-fc6d-438d-84f8-f12465b20389",
   "metadata": {},
   "outputs": [],
   "source": [
    "import pickle\n",
    "filename = 'brain_stroke1.pkl'\n",
    "pickle.dump(classifier, open(filename, 'wb'))"
   ]
  },
  {
   "cell_type": "code",
   "execution_count": 32,
   "id": "98f1189a-5b93-4a03-971a-baf27a0e72c9",
   "metadata": {},
   "outputs": [],
   "source": [
    "loadedmodel = pickle.load(open('brain_stroke1.pkl', 'rb'))"
   ]
  },
  {
   "cell_type": "code",
   "execution_count": 67,
   "id": "9d2d91a6-a723-4497-b717-fd97f9f0b085",
   "metadata": {},
   "outputs": [
    {
     "name": "stdout",
     "output_type": "stream",
     "text": [
      "['not had stroke']\n"
     ]
    }
   ],
   "source": [
    "inputed_data = (1.0, 59.0, 1.0, 0.0, 1.0, 1.0, 0.0, 92.04, 24.2, 2.0)\n",
    "inputed_as_np = np.asarray(inputed_data)\n",
    "inputed_reshaped = inputed_as_np.reshape(1,-1)\n",
    "\n",
    "prediction = loadedmodel.predict(inputed_reshaped)\n",
    "\n",
    "print(prediction)"
   ]
  },
  {
   "cell_type": "code",
   "execution_count": null,
   "id": "67feeeb9-9528-4868-8efb-6b86fe65cf63",
   "metadata": {},
   "outputs": [],
   "source": [
    "1.0, 70.0, 0.0, 1.0, 1.0, 1.0, 0.0, 239.07, 26.1, 2.0 -yes\n",
    "1.0, 59.0, 1.0, 0.0, 1.0, 1.0, 0.0, 92.04, 24.2, 2.0 - No\n"
   ]
  },
  {
   "cell_type": "code",
   "execution_count": 34,
   "id": "8b21d294-20b9-47b2-9a72-a977a8f83010",
   "metadata": {},
   "outputs": [
    {
     "name": "stdout",
     "output_type": "stream",
     "text": [
      "<class 'pandas.core.frame.DataFrame'>\n",
      "RangeIndex: 4981 entries, 0 to 4980\n",
      "Data columns (total 11 columns):\n",
      " #   Column             Non-Null Count  Dtype  \n",
      "---  ------             --------------  -----  \n",
      " 0   gender             4981 non-null   int32  \n",
      " 1   age                4981 non-null   float64\n",
      " 2   hypertension       4981 non-null   int64  \n",
      " 3   heart_disease      4981 non-null   int64  \n",
      " 4   ever_married       4981 non-null   int32  \n",
      " 5   work_type          4981 non-null   int32  \n",
      " 6   Residence_type     4981 non-null   int32  \n",
      " 7   avg_glucose_level  4981 non-null   float64\n",
      " 8   bmi                4981 non-null   float64\n",
      " 9   smoking_status     4981 non-null   int32  \n",
      " 10  stroke             4981 non-null   object \n",
      "dtypes: float64(3), int32(5), int64(2), object(1)\n",
      "memory usage: 330.9+ KB\n"
     ]
    }
   ],
   "source": [
    "df.info()"
   ]
  }
 ],
 "metadata": {
  "kernelspec": {
   "display_name": "Python 3 (ipykernel)",
   "language": "python",
   "name": "python3"
  },
  "language_info": {
   "codemirror_mode": {
    "name": "ipython",
    "version": 3
   },
   "file_extension": ".py",
   "mimetype": "text/x-python",
   "name": "python",
   "nbconvert_exporter": "python",
   "pygments_lexer": "ipython3",
   "version": "3.10.4"
  }
 },
 "nbformat": 4,
 "nbformat_minor": 5
}
